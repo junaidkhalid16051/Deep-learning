{
  "cells": [
    {
      "cell_type": "code",
      "source": [
        "\n",
        "import tensorflow as tf\n",
        "import numpy as np\n",
        "\n",
        "# Input\n",
        "x = tf.constant([\n",
        "    [0.1, 0.2, 0.3, 0.4],\n",
        "    [0.5, 0.6, 0.7, 0.8],\n",
        "    [0.9, 1.0, 1.1, 1.2]\n",
        "], dtype=tf.float32)"
      ],
      "metadata": {
        "id": "V04JxIJPfMmw"
      },
      "execution_count": 6,
      "outputs": []
    },
    {
      "cell_type": "code",
      "source": [
        "# Projection matrices (EXACT from manual)\n",
        "W_Q = tf.constant([\n",
        "    [0.1, 0.2, 0.3],\n",
        "    [0.4, 0.5, 0.6],\n",
        "    [0.7, 0.8, 0.9],\n",
        "    [1.0, 1.1, 1.2]\n",
        "], dtype=tf.float32)\n",
        "W_K = W_Q  # Same as Q\n",
        "W_V = tf.constant([\n",
        "    [0.1, 0.2],\n",
        "    [0.3, 0.4],\n",
        "    [0.5, 0.6],\n",
        "    [0.7, 0.8]\n",
        "], dtype=tf.float32)"
      ],
      "metadata": {
        "id": "57jFKPuzfM0Z"
      },
      "execution_count": 7,
      "outputs": []
    },
    {
      "cell_type": "code",
      "source": [
        "# Manual projection to Queries, Keys & Values\n",
        "queries = tf.matmul(x, W_Q)\n",
        "print(\"Queries Matrix: \",queries)\n",
        "keys = tf.matmul(x, W_K)\n",
        "print(\"Keys Matrix:\",keys)\n",
        "values = tf.matmul(x, W_V)\n",
        "print(\"Values Matrix:\", values)"
      ],
      "metadata": {
        "id": "qUlIQU4dfWo4",
        "colab": {
          "base_uri": "https://localhost:8080/"
        },
        "outputId": "1fa24d66-41e8-4e3a-bd97-46c465eff074"
      },
      "execution_count": 8,
      "outputs": [
        {
          "output_type": "stream",
          "name": "stdout",
          "text": [
            "Queries Matrix:  tf.Tensor(\n",
            "[[0.70000005 0.8000001  0.90000004]\n",
            " [1.5799999  1.8400002  2.1       ]\n",
            " [2.46       2.88       3.3000002 ]], shape=(3, 3), dtype=float32)\n",
            "Keys Matrix: tf.Tensor(\n",
            "[[0.70000005 0.8000001  0.90000004]\n",
            " [1.5799999  1.8400002  2.1       ]\n",
            " [2.46       2.88       3.3000002 ]], shape=(3, 3), dtype=float32)\n",
            "Values Matrix: tf.Tensor(\n",
            "[[0.5       0.6      ]\n",
            " [1.14      1.4000001]\n",
            " [1.7800001 2.2      ]], shape=(3, 2), dtype=float32)\n"
          ]
        }
      ]
    },
    {
      "cell_type": "code",
      "source": [
        "# Attention\n",
        "scores = tf.matmul(queries, keys, transpose_b=True)\n",
        "print(\"Attention Scores Matrix: \",scores)\n",
        "scaled = scores / tf.sqrt(3.0)\n",
        "print(\"Attention Score Matrix Scaled: \",scaled)\n",
        "weights = tf.nn.softmax(scaled, axis=-1)\n",
        "print(\"Attention Weights Matrix:\", weights)"
      ],
      "metadata": {
        "id": "5xt5VkqnfdJw",
        "outputId": "babda82e-288a-4ee9-9b11-7b1a5bfc1853",
        "colab": {
          "base_uri": "https://localhost:8080/"
        }
      },
      "execution_count": 9,
      "outputs": [
        {
          "output_type": "stream",
          "name": "stdout",
          "text": [
            "Attention Scores Matrix:  tf.Tensor(\n",
            "[[ 1.9400002  4.4680004  6.996001 ]\n",
            " [ 4.4680004 10.292     16.116001 ]\n",
            " [ 6.996001  16.116001  25.236002 ]], shape=(3, 3), dtype=float32)\n",
            "Attention Score Matrix Scaled:  tf.Tensor(\n",
            "[[ 1.1200596  2.5796013  4.039143 ]\n",
            " [ 2.5796013  5.942089   9.304578 ]\n",
            " [ 4.039143   9.304578  14.570013 ]], shape=(3, 3), dtype=float32)\n",
            "Attention Weights Matrix: tf.Tensor(\n",
            "[[4.1966919e-02 1.8062508e-01 7.7740794e-01]\n",
            " [1.1589993e-03 3.3449765e-02 9.6539128e-01]\n",
            " [2.6561418e-05 5.1404452e-03 9.9483299e-01]], shape=(3, 3), dtype=float32)\n"
          ]
        }
      ]
    },
    {
      "cell_type": "code",
      "source": [
        "# Contextualized Value Vectors for each word\n",
        "context = tf.matmul(weights, values)\n",
        "print(\"Context vectors for each word:\")\n",
        "print(context.numpy())"
      ],
      "metadata": {
        "colab": {
          "base_uri": "https://localhost:8080/"
        },
        "id": "l_o1U_q4p5bt",
        "outputId": "b185cc3c-950e-4d3e-cfe9-4afdda7096b0"
      },
      "execution_count": 10,
      "outputs": [
        {
          "output_type": "stream",
          "name": "stdout",
          "text": [
            "Context vectors for each word:\n",
            "[[1.6106822 1.9883528]\n",
            " [1.7571088 2.171386 ]\n",
            " [1.7766763 2.1958454]]\n"
          ]
        }
      ]
    }
  ],
  "metadata": {
    "colab": {
      "toc_visible": true,
      "provenance": [],
      "gpuType": "T4"
    },
    "kernelspec": {
      "display_name": "Python 3",
      "name": "python3"
    },
    "accelerator": "GPU"
  },
  "nbformat": 4,
  "nbformat_minor": 0
}